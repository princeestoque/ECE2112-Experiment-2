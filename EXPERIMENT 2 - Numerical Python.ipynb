{
 "cells": [
  {
   "cell_type": "markdown",
   "id": "bc907bba-e7b5-4d4d-8d31-1f1c4a45e243",
   "metadata": {},
   "source": [
    "## Problem 1"
   ]
  },
  {
   "cell_type": "code",
   "execution_count": null,
   "id": "f8b34b03-a120-4133-bab5-82e91ff621e6",
   "metadata": {},
   "outputs": [],
   "source": [
    "import numpy as np # Import the numpy library with the alias np \n",
    "\n",
    "X = np.random.random((5, 5)) # Create a random 5x5 ndarray\n",
    "\n",
    "# Calculate mean and standard deviation\n",
    "mean = X.mean()\n",
    "std = X.std()\n",
    "\n",
    "X_normalized = (X - mean) / std # Normalization Formula\n",
    "\n",
    "# Save and load the normalized array X_normalized\n",
    "np.save('X_normalized', X_normalized)\n",
    "Y = np.load(\"X_normalized.npy\")\n",
    "\n",
    "print(Y) # print the loaded array"
   ]
  },
  {
   "cell_type": "markdown",
   "id": "f334d135-127b-4d83-a99b-e87e241fe8c3",
   "metadata": {},
   "source": [
    "## Problem 2"
   ]
  },
  {
   "cell_type": "code",
   "execution_count": null,
   "id": "08790914-b4eb-48c1-8942-cb0fde3572d0",
   "metadata": {},
   "outputs": [],
   "source": [
    "import numpy as np # Import the numpy library with the alias np \n",
    "\n",
    "# Create a 10x10 ndarray of the squares of the first 100 positive integers\n",
    "A = np.arange(1, 101) ** 2\n",
    "A = A.reshape(10, 10)\n",
    "\n",
    "div_by_3 = A[A % 3 == 0] # Find elements divisible by 3\n",
    "\n",
    "# Save and load the normalized array div_by_3\n",
    "np.save('div_by_3', div_by_3)\n",
    "B = np.load(\"div_by_3.npy\")\n",
    "\n",
    "print(B) # print the loaded array"
   ]
  }
 ],
 "metadata": {
  "kernelspec": {
   "display_name": "Python 3 (ipykernel)",
   "language": "python",
   "name": "python3"
  },
  "language_info": {
   "codemirror_mode": {
    "name": "ipython",
    "version": 3
   },
   "file_extension": ".py",
   "mimetype": "text/x-python",
   "name": "python",
   "nbconvert_exporter": "python",
   "pygments_lexer": "ipython3",
   "version": "3.12.4"
  }
 },
 "nbformat": 4,
 "nbformat_minor": 5
}
